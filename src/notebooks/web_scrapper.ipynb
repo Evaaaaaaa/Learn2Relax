{
  "nbformat": 4,
  "nbformat_minor": 0,
  "metadata": {
    "colab": {
      "name": "web_scrapper.ipynb",
      "provenance": [],
      "authorship_tag": "ABX9TyNx6y+cdJDnMXWqOEIl/5BZ",
      "include_colab_link": true
    },
    "kernelspec": {
      "name": "python3",
      "display_name": "Python 3"
    }
  },
  "cells": [
    {
      "cell_type": "markdown",
      "metadata": {
        "id": "view-in-github",
        "colab_type": "text"
      },
      "source": [
        "<a href=\"https://colab.research.google.com/github/Evaaaaaaa/Learn2Relax/blob/master/notebooks/web_scrapper.ipynb\" target=\"_parent\"><img src=\"https://colab.research.google.com/assets/colab-badge.svg\" alt=\"Open In Colab\"/></a>"
      ]
    },
    {
      "cell_type": "code",
      "metadata": {
        "id": "YTqvCHbBSBFv",
        "colab_type": "code",
        "colab": {}
      },
      "source": [
        "%pip install praw"
      ],
      "execution_count": 0,
      "outputs": []
    },
    {
      "cell_type": "markdown",
      "metadata": {
        "id": "K4JMfz2JbvPN",
        "colab_type": "text"
      },
      "source": [
        "get posts that contain the word 'stress'"
      ]
    },
    {
      "cell_type": "code",
      "metadata": {
        "id": "h5bYusHVNluD",
        "colab_type": "code",
        "colab": {}
      },
      "source": [
        "import pandas as pd\n",
        "import praw\n",
        "\n",
        "reddit = praw.Reddit(client_id='P-Y2W0ZbjYE7lA', client_secret='smd0GrdCwMc0DIcDKyviqw1bC2I', user_agent='Reddit Scrapper')\n",
        "\n",
        "\n",
        "subs = ['PTSD', 'Assistance', 'relationships', 'survivorsofabuse',\n",
        "       'domesticviolence', 'Anxiety', 'homeless', 'Stress',\n",
        "       'COVID19','Coronavirus','domesticviolence', 'almosthomeless', 'food_pantry']\n",
        "\n",
        "corpus = pd.DataFrame(posts,columns=['title', 'id', 'subreddit', 'num_comments', 'body', 'created'])\n",
        "\n",
        "for sub in subs:\n",
        "  posts = []\n",
        "  subreddit = reddit.subreddit(sub)\n",
        "  for post in subreddit.search(\"stress\"):\n",
        "    a_series = pd.Series([post.title, post.id, post.subreddit,  post.num_comments, post.selftext, post.created], index = corpus.columns)\n",
        "    corpus = corpus.append(a_series, ignore_index=True)\n"
      ],
      "execution_count": 0,
      "outputs": []
    },
    {
      "cell_type": "code",
      "metadata": {
        "id": "mzCqBsWXTAJ6",
        "colab_type": "code",
        "outputId": "863e4304-65ac-4f68-b535-0d7e2fcf833c",
        "colab": {
          "base_uri": "https://localhost:8080/",
          "height": 419
        }
      },
      "source": [
        "corpus1"
      ],
      "execution_count": 0,
      "outputs": [
        {
          "output_type": "execute_result",
          "data": {
            "text/html": [
              "<div>\n",
              "<style scoped>\n",
              "    .dataframe tbody tr th:only-of-type {\n",
              "        vertical-align: middle;\n",
              "    }\n",
              "\n",
              "    .dataframe tbody tr th {\n",
              "        vertical-align: top;\n",
              "    }\n",
              "\n",
              "    .dataframe thead th {\n",
              "        text-align: right;\n",
              "    }\n",
              "</style>\n",
              "<table border=\"1\" class=\"dataframe\">\n",
              "  <thead>\n",
              "    <tr style=\"text-align: right;\">\n",
              "      <th></th>\n",
              "      <th>title</th>\n",
              "      <th>id</th>\n",
              "      <th>subreddit</th>\n",
              "      <th>num_comments</th>\n",
              "      <th>body</th>\n",
              "      <th>created</th>\n",
              "    </tr>\n",
              "  </thead>\n",
              "  <tbody>\n",
              "    <tr>\n",
              "      <th>0</th>\n",
              "      <td>Self Help and Self Care Resources (Re-post)</td>\n",
              "      <td>fni7d0</td>\n",
              "      <td>ptsd</td>\n",
              "      <td>12</td>\n",
              "      <td>Unfortunately this is a small subreddit and as...</td>\n",
              "      <td>1.584991e+09</td>\n",
              "    </tr>\n",
              "    <tr>\n",
              "      <th>1</th>\n",
              "      <td>Survey thread - Surveys posted outside this th...</td>\n",
              "      <td>fmi800</td>\n",
              "      <td>ptsd</td>\n",
              "      <td>17</td>\n",
              "      <td>If you have a survey you would like to share w...</td>\n",
              "      <td>1.584839e+09</td>\n",
              "    </tr>\n",
              "    <tr>\n",
              "      <th>2</th>\n",
              "      <td>I (17) once saw my childhood abuser (19) at a ...</td>\n",
              "      <td>gyu1ze</td>\n",
              "      <td>ptsd</td>\n",
              "      <td>7</td>\n",
              "      <td>We’ve both grown up. After years of being so a...</td>\n",
              "      <td>1.591628e+09</td>\n",
              "    </tr>\n",
              "    <tr>\n",
              "      <th>3</th>\n",
              "      <td>Thinking of asking my T to put me in hospital</td>\n",
              "      <td>gz4dg9</td>\n",
              "      <td>ptsd</td>\n",
              "      <td>5</td>\n",
              "      <td>Hello all, lockdown has been quite hard on me ...</td>\n",
              "      <td>1.591668e+09</td>\n",
              "    </tr>\n",
              "    <tr>\n",
              "      <th>4</th>\n",
              "      <td>Question sexual assault and nightmares</td>\n",
              "      <td>gz0isw</td>\n",
              "      <td>ptsd</td>\n",
              "      <td>1</td>\n",
              "      <td>Hello everyone! I was diagnosed with ptsd a li...</td>\n",
              "      <td>1.591656e+09</td>\n",
              "    </tr>\n",
              "    <tr>\n",
              "      <th>...</th>\n",
              "      <td>...</td>\n",
              "      <td>...</td>\n",
              "      <td>...</td>\n",
              "      <td>...</td>\n",
              "      <td>...</td>\n",
              "      <td>...</td>\n",
              "    </tr>\n",
              "    <tr>\n",
              "      <th>8387</th>\n",
              "      <td>Association of country-wide coronavirus mortal...</td>\n",
              "      <td>gx418t</td>\n",
              "      <td>Coronavirus</td>\n",
              "      <td>0</td>\n",
              "      <td></td>\n",
              "      <td>1.591390e+09</td>\n",
              "    </tr>\n",
              "    <tr>\n",
              "      <th>8388</th>\n",
              "      <td>Researchers retract study that found big risks...</td>\n",
              "      <td>gwvlnn</td>\n",
              "      <td>Coronavirus</td>\n",
              "      <td>20</td>\n",
              "      <td></td>\n",
              "      <td>1.591352e+09</td>\n",
              "    </tr>\n",
              "    <tr>\n",
              "      <th>8389</th>\n",
              "      <td>Authors Retract Studies That Found Risks of An...</td>\n",
              "      <td>gx5cjh</td>\n",
              "      <td>Coronavirus</td>\n",
              "      <td>0</td>\n",
              "      <td></td>\n",
              "      <td>1.591395e+09</td>\n",
              "    </tr>\n",
              "    <tr>\n",
              "      <th>8390</th>\n",
              "      <td>Increased spread of infection in Västra Götala...</td>\n",
              "      <td>gx3yss</td>\n",
              "      <td>Coronavirus</td>\n",
              "      <td>13</td>\n",
              "      <td></td>\n",
              "      <td>1.591390e+09</td>\n",
              "    </tr>\n",
              "    <tr>\n",
              "      <th>8391</th>\n",
              "      <td>How to stop a virus from spreading</td>\n",
              "      <td>fn3j0w</td>\n",
              "      <td>Coronavirus</td>\n",
              "      <td>2218</td>\n",
              "      <td></td>\n",
              "      <td>1.584928e+09</td>\n",
              "    </tr>\n",
              "  </tbody>\n",
              "</table>\n",
              "<p>8392 rows × 6 columns</p>\n",
              "</div>"
            ],
            "text/plain": [
              "                                                  title  ...       created\n",
              "0           Self Help and Self Care Resources (Re-post)  ...  1.584991e+09\n",
              "1     Survey thread - Surveys posted outside this th...  ...  1.584839e+09\n",
              "2     I (17) once saw my childhood abuser (19) at a ...  ...  1.591628e+09\n",
              "3         Thinking of asking my T to put me in hospital  ...  1.591668e+09\n",
              "4                Question sexual assault and nightmares  ...  1.591656e+09\n",
              "...                                                 ...  ...           ...\n",
              "8387  Association of country-wide coronavirus mortal...  ...  1.591390e+09\n",
              "8388  Researchers retract study that found big risks...  ...  1.591352e+09\n",
              "8389  Authors Retract Studies That Found Risks of An...  ...  1.591395e+09\n",
              "8390  Increased spread of infection in Västra Götala...  ...  1.591390e+09\n",
              "8391                 How to stop a virus from spreading  ...  1.584928e+09\n",
              "\n",
              "[8392 rows x 6 columns]"
            ]
          },
          "metadata": {
            "tags": []
          },
          "execution_count": 34
        }
      ]
    },
    {
      "cell_type": "code",
      "metadata": {
        "id": "jo2uKQOlc01I",
        "colab_type": "code",
        "colab": {}
      },
      "source": [
        "import pandas as pd\n",
        "import praw\n",
        "\n",
        "reddit = praw.Reddit(client_id='P-Y2W0ZbjYE7lA', client_secret='smd0GrdCwMc0DIcDKyviqw1bC2I', user_agent='Reddit Scrapper')\n",
        "\n",
        "\n",
        "subs = ['PTSD', 'Assistance', 'relationships', 'survivorsofabuse',\n",
        "       'domesticviolence', 'Anxiety', 'homeless', 'Stress',\n",
        "       'COVID19','Coronavirus','domesticviolence', 'almosthomeless', 'food_pantry']\n",
        "\n",
        "corpus = pd.DataFrame(posts,columns=['id', 'body', 'subreddit', 'created'])\n",
        "\n",
        "for sub in subs:\n",
        "  posts = []\n",
        "  subreddit = reddit.subreddit(sub)\n",
        "  for post in subreddit.hot(limit=1e+10): \n",
        "    comments = post.comments.list()[:-1]\n",
        "    for comment in comments:\n",
        "      a_series = pd.Series([comment.id, comment.body, comment.subreddit, comment.created], index = corpus.columns)\n",
        "      corpus = corpus.append(a_series, ignore_index=True)\n"
      ],
      "execution_count": 0,
      "outputs": []
    }
  ]
}