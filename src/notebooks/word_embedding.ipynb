{
 "cells": [
  {
   "cell_type": "markdown",
   "metadata": {
    "colab_type": "text",
    "id": "uR86zXHtjnAa"
   },
   "source": [
    "# Stress Analysis in Social Media\n",
    "\n",
    "Leverage the newly published and labelled reddit dataset for stress analysis to develop and improve supervised learning methods for identifying stress, both neural and traditional, and analyze the complexity and diversity of the data and characteristics of each category.\n",
    "\n",
    "Reference: https://towardsdatascience.com/nlp-performance-of-different-word-embeddings-on-text-classification-de648c6262b\n"
   ]
  },
  {
   "cell_type": "code",
   "execution_count": 1,
   "metadata": {
    "colab": {
     "base_uri": "https://localhost:8080/",
     "height": 71
    },
    "colab_type": "code",
    "id": "OXXy2i8IjnAd",
    "outputId": "d979ca1b-02b3-42af-a52e-aceb3c532e9f"
   },
   "outputs": [],
   "source": [
    "import os\n",
    "import pandas as pd\n",
    "import numpy as np \n",
    "import matplotlib.pyplot as plt\n",
    "import matplotlib.colors as mcolors\n",
    "import seaborn as sns\n",
    "import re\n",
    "import string\n",
    "from collections import defaultdict\n",
    "\n",
    "import nltk\n",
    "from nltk.corpus import stopwords\n",
    "from nltk.corpus import RegexpTokenizer\n",
    "from nltk.stem import WordNetLemmatizer\n",
    "from nltk.stem.porter import PorterStemmer\n",
    "\n",
    "from sklearn.preprocessing import StandardScaler\n",
    "from sklearn.feature_extraction.text import CountVectorizer\n",
    "from sklearn.feature_extraction.text import TfidfVectorizer\n",
    "from sklearn.decomposition import PCA\n",
    "from sklearn.linear_model import LogisticRegression\n",
    "from sklearn.svm import LinearSVC\n",
    "from sklearn.linear_model import SGDClassifier\n",
    "from sklearn.naive_bayes import GaussianNB\n",
    "from sklearn.ensemble import RandomForestClassifier, AdaBoostClassifier, GradientBoostingClassifier\n",
    "from sklearn.neighbors import KNeighborsClassifier\n",
    "from sklearn.tree import DecisionTreeClassifier\n",
    "import xgboost as xgb\n",
    "from sklearn.metrics import accuracy_score, confusion_matrix, precision_score, recall_score, f1_score\n",
    "from sklearn.metrics import precision_recall_fscore_support\n",
    "# from sklearn.model_selection import train_test_split\n",
    "from sklearn.manifold import TSNE\n",
    "\n",
    "# from wordcloud import WordCloud\n",
    "\n",
    "from gensim.models import Word2Vec\n",
    "from gensim.test.utils import common_texts\n",
    "from gensim.models.doc2vec import Doc2Vec, TaggedDocument"
   ]
  },
  {
   "cell_type": "code",
   "execution_count": 12,
   "metadata": {
    "colab": {},
    "colab_type": "code",
    "id": "ptE1mcjfawSe"
   },
   "outputs": [],
   "source": [
    "import warnings\n",
    "warnings.filterwarnings(\"ignore\")"
   ]
  },
  {
   "cell_type": "markdown",
   "metadata": {
    "colab_type": "text",
    "id": "dHFAsIQVjnAk"
   },
   "source": [
    "## Data Preprocessing\n",
    "Possible approach of data preprocessing and feature engineeing \n",
    "- Tokenization, Removal of punctuations.\n",
    "- Removal of commonly used words (stopwords).\n",
    "- Lemmatization or Stemming (Normalization)"
   ]
  },
  {
   "cell_type": "code",
   "execution_count": 0,
   "metadata": {
    "colab": {
     "base_uri": "https://localhost:8080/",
     "height": 85
    },
    "colab_type": "code",
    "id": "uIxddMwijnAl",
    "outputId": "63cf28b6-d183-495e-f531-48e8e20a103c"
   },
   "outputs": [
    {
     "name": "stdout",
     "output_type": "stream",
     "text": [
      "[nltk_data] Downloading package stopwords to /root/nltk_data...\n",
      "[nltk_data]   Package stopwords is already up-to-date!\n",
      "[nltk_data] Downloading package wordnet to /root/nltk_data...\n",
      "[nltk_data]   Package wordnet is already up-to-date!\n"
     ]
    }
   ],
   "source": [
    "nltk.download('stopwords')\n",
    "nltk.download('wordnet')\n",
    "\n",
    "path = './data/'\n",
    "train = pd.read_csv(path + 'dreaddit-train.csv', encoding = \"ISO-8859-1\")\n",
    "test = pd.read_csv(path + 'dreaddit-test.csv', encoding = \"ISO-8859-1\")"
   ]
  },
  {
   "cell_type": "markdown",
   "metadata": {
    "colab_type": "text",
    "id": "7To4kIuTjnAr"
   },
   "source": [
    "### Tokenization & Remove punctuations"
   ]
  },
  {
   "cell_type": "code",
   "execution_count": 0,
   "metadata": {
    "colab": {},
    "colab_type": "code",
    "id": "5dLaURRQjnAt"
   },
   "outputs": [],
   "source": [
    "# tokenization: breaks the string into list of words\n",
    "# tokenizer = RegexpTokenizer(r'\\w+')\n",
    "tokenizer = RegexpTokenizer(r'[a-zA-Z]{2,}') # remove number and words that length = 1\n",
    "train['processed_text'] = train['text'].apply(lambda x: tokenizer.tokenize(x.lower()))\n",
    "test['processed_text'] = test['text'].apply(lambda x: tokenizer.tokenize(x.lower()))"
   ]
  },
  {
   "cell_type": "markdown",
   "metadata": {
    "colab_type": "text",
    "id": "UnLgGQv0jnA0"
   },
   "source": [
    "### Remove Stopwords"
   ]
  },
  {
   "cell_type": "code",
   "execution_count": 0,
   "metadata": {
    "colab": {},
    "colab_type": "code",
    "id": "qO243OwYjnA0"
   },
   "outputs": [],
   "source": [
    "def remove_stopwords(text):\n",
    "    words = [w for w in text if w not in stopwords.words('english')]\n",
    "    return words"
   ]
  },
  {
   "cell_type": "code",
   "execution_count": 0,
   "metadata": {
    "colab": {},
    "colab_type": "code",
    "id": "Icd0M75LjnA3"
   },
   "outputs": [],
   "source": [
    "train['processed_text'] = train['processed_text'].apply(lambda x: remove_stopwords(x))\n",
    "test['processed_text'] = test['processed_text'].apply(lambda x: remove_stopwords(x))"
   ]
  },
  {
   "cell_type": "markdown",
   "metadata": {
    "colab_type": "text",
    "id": "az2nhsKxjnA6"
   },
   "source": [
    "### Stemming & Lemmatization\n",
    "Text normalization"
   ]
  },
  {
   "cell_type": "code",
   "execution_count": 0,
   "metadata": {
    "colab": {},
    "colab_type": "code",
    "id": "xk5P-_x9jnA7"
   },
   "outputs": [],
   "source": [
    "# stemming\n",
    "stemmer = PorterStemmer()\n",
    "\n",
    "def word_stemmer(text):\n",
    "    stem_text = [stemmer.stem(i) for i in text]\n",
    "    return stem_text\n",
    "\n",
    "train['processed_text'] = train['processed_text'].apply(lambda x: word_stemmer(x))\n",
    "test['processed_text'] = test['processed_text'].apply(lambda x: word_stemmer(x))"
   ]
  },
  {
   "cell_type": "code",
   "execution_count": 0,
   "metadata": {
    "colab": {},
    "colab_type": "code",
    "id": "yNfVav2rjnA-"
   },
   "outputs": [],
   "source": [
    "# lemmatization\n",
    "lemmatizer = WordNetLemmatizer()\n",
    "\n",
    "def word_lemmatizer(text):\n",
    "    lem_text = [lemmatizer.lemmatize(i) for i in text]\n",
    "    return lem_text\n",
    "\n",
    "train['processed_text'] = train['processed_text'].apply(lambda x: word_lemmatizer(x))\n",
    "test['processed_text'] = test['processed_text'].apply(lambda x: word_lemmatizer(x))"
   ]
  },
  {
   "cell_type": "code",
   "execution_count": 0,
   "metadata": {
    "colab": {},
    "colab_type": "code",
    "id": "OAYBmXzl3hWl"
   },
   "outputs": [],
   "source": [
    "train.to_pickle(\"./data/train.pkl\")\n",
    "test.to_pickle(\"./data/test.pkl\")"
   ]
  },
  {
   "cell_type": "markdown",
   "metadata": {
    "colab_type": "text",
    "id": "gn6f-4DljnBB"
   },
   "source": [
    "## Feature Extraction"
   ]
  },
  {
   "cell_type": "markdown",
   "metadata": {
    "colab_type": "text",
    "id": "Z0Pc5HJ-KX7q"
   },
   "source": [
    "### Word2Vec + TD-IDF\n",
    "TF-IDF Weighted Averaging on Word Embedding\n",
    "\n",
    "reference: https://gist.github.com/TomLin/30244bcccb7e4f94d191a878a697f698"
   ]
  },
  {
   "cell_type": "code",
   "execution_count": 3,
   "metadata": {
    "colab": {},
    "colab_type": "code",
    "id": "7WKvgP-46QIm",
    "scrolled": true
   },
   "outputs": [],
   "source": [
    "path = '../../data/preprocessed/'\n",
    "train = pd.read_pickle(path + \"train.pkl\")\n",
    "test = pd.read_pickle(path + \"test.pkl\")"
   ]
  },
  {
   "cell_type": "code",
   "execution_count": 4,
   "metadata": {},
   "outputs": [],
   "source": [
    "train = train[train['confidence']>0.8]\n",
    "test = test[test['confidence']>0.8]"
   ]
  },
  {
   "cell_type": "code",
   "execution_count": 5,
   "metadata": {
    "colab": {
     "base_uri": "https://localhost:8080/",
     "height": 68
    },
    "colab_type": "code",
    "id": "kzICPjeRG2Cg",
    "outputId": "132d5583-bf25-449c-f3d1-88372cb01249"
   },
   "outputs": [
    {
     "data": {
      "text/plain": [
       "array(['assistance', 'relationships', 'anxiety', 'homeless',\n",
       "       'domesticviolence', 'survivorsofabuse', 'ptsd', 'stress',\n",
       "       'food_pantry', 'almosthomeless'], dtype=object)"
      ]
     },
     "execution_count": 5,
     "metadata": {},
     "output_type": "execute_result"
    }
   ],
   "source": [
    "train.subreddit.unique()"
   ]
  },
  {
   "cell_type": "code",
   "execution_count": 6,
   "metadata": {
    "colab": {},
    "colab_type": "code",
    "id": "UsXxf1abhBBj"
   },
   "outputs": [],
   "source": [
    "word2vec = Word2Vec(train['processed_text'],\n",
    "                size=300,\n",
    "                window=10,\n",
    "                min_count=2,\n",
    "                workers=10,\n",
    "                iter=100)"
   ]
  },
  {
   "cell_type": "markdown",
   "metadata": {
    "colab_type": "text",
    "id": "HpAVaigyF7xo"
   },
   "source": [
    "### Word2Vec"
   ]
  },
  {
   "cell_type": "markdown",
   "metadata": {
    "colab_type": "text",
    "id": "OK1bSGgVFiH2"
   },
   "source": [
    "### plot samples"
   ]
  },
  {
   "cell_type": "code",
   "execution_count": 7,
   "metadata": {
    "colab": {
     "base_uri": "https://localhost:8080/",
     "height": 102
    },
    "colab_type": "code",
    "id": "ysAaq3dIudlv",
    "outputId": "eeab1496-56c1-4bff-f4ea-aaee5a8ced9e"
   },
   "outputs": [
    {
     "name": "stdout",
     "output_type": "stream",
     "text": [
      "ptsd:['diagnos', 'traumat', 'bpd', 'rattl', 'trauma']\n",
      "social:['fals', 'wifi', 'medium', 'incompet', 'interact']\n",
      "stress:['everyday', 'knot', 'adhd', 'dedic', 'manifest']\n",
      "love:['peac', 'happi', 'sweet', 'bliss', 'jesu']\n",
      "friendship:['flirt', 'jessi', 'strong', 'naiv', 'immatur']\n"
     ]
    }
   ],
   "source": [
    "# find the similar words\n",
    "semantically_similar_words = {words: [item[0] for item in word2vec.wv.most_similar([words], topn=5)]\n",
    "                  # for words in ['abuse', 'anxiety', 'financial', 'ptsd', 'social', 'stress', 'love', 'friendship']}\n",
    "                  for words in ['ptsd', 'social', 'stress', 'love', 'friendship']}\n",
    "\n",
    "for k,v in semantically_similar_words.items():\n",
    "    print(k+\":\"+str(v))"
   ]
  },
  {
   "cell_type": "code",
   "execution_count": 8,
   "metadata": {
    "colab": {
     "base_uri": "https://localhost:8080/",
     "height": 34
    },
    "colab_type": "code",
    "id": "iAoZYQ9NugQ_",
    "outputId": "675e8c51-7cb0-4e1d-a67a-83b9ae8eb898"
   },
   "outputs": [
    {
     "name": "stdout",
     "output_type": "stream",
     "text": [
      "0.07997589\n"
     ]
    }
   ],
   "source": [
    "# find the similarity of two words\n",
    "print(word2vec.wv.similarity(w1='love', w2='stress'))"
   ]
  },
  {
   "cell_type": "code",
   "execution_count": 9,
   "metadata": {
    "colab": {},
    "colab_type": "code",
    "id": "vMHQcn2-t7q9"
   },
   "outputs": [],
   "source": [
    "keys = ['ptsd', 'social', 'stress', 'love', 'friendship']\n",
    "embedding_clusters = []\n",
    "word_clusters = []\n",
    "for word in keys:\n",
    "    embeddings = []\n",
    "    words = []\n",
    "    for similar_word, _ in word2vec.wv.most_similar(word, topn=20):\n",
    "        words.append(similar_word)\n",
    "        embeddings.append(word2vec[similar_word])\n",
    "    embedding_clusters.append(embeddings)\n",
    "    word_clusters.append(words)"
   ]
  },
  {
   "cell_type": "code",
   "execution_count": 10,
   "metadata": {
    "colab": {},
    "colab_type": "code",
    "id": "XmfRRcH5t7rP"
   },
   "outputs": [],
   "source": [
    "from sklearn.manifold import TSNE\n",
    "import numpy as np\n",
    "\n",
    "embedding_clusters = np.array(embedding_clusters)\n",
    "n, m, k = embedding_clusters.shape\n",
    "tsne_model_en_2d = TSNE(perplexity=15, n_components=2, init='pca', n_iter=3500, random_state=32)\n",
    "embeddings_en_2d = np.array(tsne_model_en_2d.fit_transform(embedding_clusters.reshape(n * m, k))).reshape(n, m, 2)"
   ]
  },
  {
   "cell_type": "code",
   "execution_count": 14,
   "metadata": {
    "colab": {
     "base_uri": "https://localhost:8080/",
     "height": 775
    },
    "colab_type": "code",
    "id": "n-HBaEgxt7rh",
    "outputId": "8ff2af07-bb90-4aa5-8776-418205fb3f82",
    "scrolled": true
   },
   "outputs": [
    {
     "name": "stderr",
     "output_type": "stream",
     "text": [
      "'c' argument looks like a single numeric RGB or RGBA sequence, which should be avoided as value-mapping will have precedence in case its length matches with 'x' & 'y'.  Please use a 2-D array with a single row if you really want to specify the same RGB or RGBA value for all points.\n",
      "'c' argument looks like a single numeric RGB or RGBA sequence, which should be avoided as value-mapping will have precedence in case its length matches with 'x' & 'y'.  Please use a 2-D array with a single row if you really want to specify the same RGB or RGBA value for all points.\n",
      "'c' argument looks like a single numeric RGB or RGBA sequence, which should be avoided as value-mapping will have precedence in case its length matches with 'x' & 'y'.  Please use a 2-D array with a single row if you really want to specify the same RGB or RGBA value for all points.\n",
      "'c' argument looks like a single numeric RGB or RGBA sequence, which should be avoided as value-mapping will have precedence in case its length matches with 'x' & 'y'.  Please use a 2-D array with a single row if you really want to specify the same RGB or RGBA value for all points.\n",
      "'c' argument looks like a single numeric RGB or RGBA sequence, which should be avoided as value-mapping will have precedence in case its length matches with 'x' & 'y'.  Please use a 2-D array with a single row if you really want to specify the same RGB or RGBA value for all points.\n"
     ]
    },
    {
     "data": {
      "image/png": "[encoded data removed]",
      "text/plain": [
       "<Figure size 1296x864 with 1 Axes>"
      ]
     },
     "metadata": {
      "needs_background": "light"
     },
     "output_type": "display_data"
    },
    {
     "data": {
      "text/plain": [
       "<Figure size 432x288 with 0 Axes>"
      ]
     },
     "metadata": {},
     "output_type": "display_data"
    }
   ],
   "source": [
    "import matplotlib.pyplot as plt\n",
    "import matplotlib.cm as cm\n",
    "%matplotlib inline\n",
    "\n",
    "\n",
    "def tsne_plot_similar_words(title, labels, embedding_clusters, word_clusters, a, filename=None):\n",
    "    plt.figure(figsize=(18, 12))\n",
    "    colors = cm.rainbow(np.linspace(0, 1, len(labels)))\n",
    "    for label, embeddings, words, color in zip(labels, embedding_clusters, word_clusters, colors):\n",
    "        x = embeddings[:, 0]\n",
    "        y = embeddings[:, 1]\n",
    "        plt.scatter(x, y, s=100, c=color, alpha=a, label=label)\n",
    "        for i, word in enumerate(words):\n",
    "            plt.annotate(word, alpha=0.7, xy=(x[i], y[i]), xytext=(5, 2),\n",
    "                         textcoords='offset points', ha='right', va='bottom', size=14)\n",
    "    plt.legend(loc=4) # , prop={'size': 20}\n",
    "    plt.title(title, size=15)\n",
    "    plt.grid(True)\n",
    "    if filename:\n",
    "        plt.savefig(filename, format='png', dpi=150, bbox_inches='tight')\n",
    "    plt.show()\n",
    "    plt.savefig('../../figs/similar_words.png')\n",
    "\n",
    "\n",
    "tsne_plot_similar_words('Similar words from Reddit Posts', keys, embeddings_en_2d, word_clusters, 0.7)"
   ]
  },
  {
   "cell_type": "code",
   "execution_count": 15,
   "metadata": {
    "colab": {
     "base_uri": "https://localhost:8080/",
     "height": 483
    },
    "colab_type": "code",
    "id": "OTnR1xH4ug0h",
    "outputId": "e9c80e2c-0062-494e-8e35-aa853f041e57"
   },
   "outputs": [
    {
     "data": {
      "image/png": "[encoded data removed]",
      "text/plain": [
       "<Figure size 864x576 with 1 Axes>"
      ]
     },
     "metadata": {
      "needs_background": "light"
     },
     "output_type": "display_data"
    }
   ],
   "source": [
    "all_similar_words = sum([[k] + v for k, v in semantically_similar_words.items()], [])\n",
    "\n",
    "word_vectors = word2vec.wv[all_similar_words]\n",
    "\n",
    "pca = PCA(n_components=2)\n",
    "\n",
    "p_comps = pca.fit_transform(word_vectors)\n",
    "word_names = all_similar_words\n",
    "\n",
    "plt.figure(figsize=(12, 8))\n",
    "# name = ['abuse', 'anxiety', 'financial', 'ptsd', 'social', 'stress', 'love']\n",
    "plt.scatter(p_comps[:, 0], p_comps[:, 1], c='red')\n",
    "\n",
    "for word_names, x, y in zip(word_names, p_comps[:, 0], p_comps[:, 1]):\n",
    "    plt.annotate(word_names, xy=(x+0.06, y+0.03), xytext=(0, 0), textcoords='offset points')"
   ]
  },
  {
   "cell_type": "markdown",
   "metadata": {
    "colab_type": "text",
    "id": "OFwuMDVDFpUZ"
   },
   "source": [
    "### generate embeddings"
   ]
  },
  {
   "cell_type": "code",
   "execution_count": 16,
   "metadata": {
    "colab": {},
    "colab_type": "code",
    "id": "GRkgi004nhba"
   },
   "outputs": [],
   "source": [
    "class TfidfEmbeddingVectorizer(object):\n",
    "\n",
    "    def __init__(self, word_model):\n",
    "\n",
    "        self.word_model = word_model\n",
    "        self.word_idf_weight = None\n",
    "        self.vector_size = word_model.wv.vector_size\n",
    "\n",
    "    def fit(self, docs):  # comply with scikit-learn transformer requirement\n",
    "        \"\"\"\n",
    "        Fit in a list of docs, which had been preprocessed and tokenized,\n",
    "        such as word bi-grammed, stop-words removed, lemmatized, part of speech filtered.\n",
    "        Then build up a tfidf model to compute each word's idf as its weight.\n",
    "        Noted that tf weight is already involved when constructing average word vectors, and thus omitted.\n",
    "        :param: pre_processed_docs: list of docs, which are tokenized\n",
    "        :return: self\n",
    "        \"\"\"\n",
    "\n",
    "        text_docs = []\n",
    "        for doc in docs:\n",
    "            text_docs.append(\" \".join(doc))\n",
    "\n",
    "        tfidf = TfidfVectorizer() # default 1-gram \n",
    "        tfidf.fit(text_docs)  # must be list of text string\n",
    "\n",
    "        # if a word was never seen - it must be at least as infrequent\n",
    "        # as any of the known words - so the default idf is the max of\n",
    "        # known idf's\n",
    "        max_idf = max(tfidf.idf_)  # used as default value for defaultdict\n",
    "        self.word_idf_weight = defaultdict(lambda: max_idf,\n",
    "                                           [(word, tfidf.idf_[i]) for word, i in tfidf.vocabulary_.items()])\n",
    "        return self\n",
    "\n",
    "\n",
    "    def transform(self, docs):  # comply with scikit-learn transformer requirement\n",
    "        doc_word_vector = self.word_average_list(docs)\n",
    "        return doc_word_vector\n",
    "\n",
    "\n",
    "    def word_average(self, sent):\n",
    "        \"\"\"\n",
    "        Compute average word vector for a single doc/sentence.\n",
    "        :param sent: list of sentence tokens\n",
    "        :return:\n",
    "            mean: float of averaging word vectors\n",
    "        \"\"\"\n",
    "\n",
    "        mean = []\n",
    "        for word in sent:\n",
    "            if word in self.word_model.wv.vocab:\n",
    "                mean.append(self.word_model.wv.get_vector(word) * self.word_idf_weight[word])  # idf weighted\n",
    "\n",
    "        if not mean:  # empty words\n",
    "            # If a text is empty, return a vector of zeros.\n",
    "            logging.warning(\"cannot compute average owing to no vector for {}\".format(sent))\n",
    "            return np.zeros(self.vector_size)\n",
    "        else:\n",
    "            mean = np.array(mean).mean(axis=0)\n",
    "            return mean\n",
    "\n",
    "\n",
    "    def word_average_list(self, docs):\n",
    "        \"\"\"\n",
    "        Compute average word vector for multiple docs, where docs had been tokenized.\n",
    "        :param docs: list of sentence in list of separated tokens\n",
    "        :return:\n",
    "            array of average word vector in shape (len(docs),)\n",
    "        \"\"\"\n",
    "        return np.vstack([self.word_average(sent) for sent in docs])"
   ]
  },
  {
   "cell_type": "code",
   "execution_count": 17,
   "metadata": {
    "colab": {},
    "colab_type": "code",
    "id": "a3YhL9Tn3f8o"
   },
   "outputs": [],
   "source": [
    "train_token = train['processed_text']\n",
    "test_token = test['processed_text']\n",
    "\n",
    "X = train_token.append(test_token)\n",
    "X = X.reset_index(drop=True)"
   ]
  },
  {
   "cell_type": "code",
   "execution_count": 18,
   "metadata": {
    "colab": {},
    "colab_type": "code",
    "id": "qgpAGVeFrWGg"
   },
   "outputs": [],
   "source": [
    "tfidf_vec_tr = TfidfEmbeddingVectorizer(word2vec)\n",
    "\n",
    "tfidf_vec_tr.fit(X)  # fit tfidf model first\n",
    "tfidf_doc_vec = tfidf_vec_tr.transform(X)"
   ]
  },
  {
   "cell_type": "markdown",
   "metadata": {
    "colab_type": "text",
    "id": "e2mmkAXDtHeV"
   },
   "source": [
    "### Doc2Vec"
   ]
  },
  {
   "cell_type": "code",
   "execution_count": 26,
   "metadata": {
    "colab": {},
    "colab_type": "code",
    "id": "ZMi2BKyyevcx",
    "scrolled": true
   },
   "outputs": [],
   "source": [
    "doc_words = train['processed_text'].append(test['processed_text'])\n",
    "doc_words = doc_words.reset_index(drop = True)\n",
    "\n",
    "doc_ids = doc_words.index\n",
    "tagdocs = [TaggedDocument(words=words, tags=[tag]) for words, tag in zip(doc_words, doc_ids)]"
   ]
  },
  {
   "cell_type": "code",
   "execution_count": 27,
   "metadata": {
    "colab": {},
    "colab_type": "code",
    "id": "jeG73aLOaZek"
   },
   "outputs": [],
   "source": [
    "class DocModel(object):\n",
    "\n",
    "\tdef __init__(self, docs, **kwargs):\n",
    "\t\t\"\"\"\n",
    "\t\t:param docs: list of TaggedDocument\n",
    "\t\t:param kwargs: dictionary of (key,value) for Doc2Vec arguments\n",
    "\t\t\"\"\"\n",
    "\t\tself.model = Doc2Vec(**kwargs)\n",
    "\t\tself.docs = docs\n",
    "\t\tself.model.build_vocab([x for x in self.docs])\n",
    "\n",
    "\tdef custom_train(self, fixed_lr=False, fixed_lr_epochs=None):\n",
    "\t\t\"\"\"\n",
    "\t\tTrain Doc2Vec with two options, without fixed learning rate(recommended) or with fixed learning rate.\n",
    "\t\tFixed learning rate also includes implementation of shuffling training dataset.\n",
    "\t\t:param fixed_lr: boolean\n",
    "\t\t:param fixed_lr_epochs: num of epochs for fixed lr training\n",
    "\t\t\"\"\"\n",
    "\t\tif not fixed_lr:\n",
    "\t\t\tself.model.train([x for x in self.docs],\n",
    "\t\t\t\t\t total_examples=len(self.docs),\n",
    "\t\t\t\t\t epochs=self.model.epochs)\n",
    "\t\telse: # change the learning rate during the training\n",
    "\t\t\tfor _ in range(fixed_lr_epochs):\n",
    "\t\t\t\tself.model.train(utils.shuffle([x for x in self.docs]),\n",
    "\t\t\t\t\t\t total_examples=len(self.docs),\n",
    "\t\t\t\t\t\t epochs=1)\n",
    "\t\t\t\tself.model.alpha -= 0.002\n",
    "\t\t\t\tself.model.min_alpha = self.model.alpha  # fixed learning rate\n",
    "\n",
    "\n",
    "\tdef test_orig_doc_infer(self):\n",
    "\t\t\"\"\"\n",
    "\t\tUse the original doc as input for model's vector inference,\n",
    "\t\tand then compare using most_similar()\n",
    "\t\tto see if model finds the original doc id be the most similar doc to the input.\n",
    "\t\t\"\"\"\n",
    "\t\tidx = np.random.randint(len(self.docs))\n",
    "\t\tprint('idx: ' + str(idx))\n",
    "\t\tdoc = [doc for doc in self.docs if doc.tags[0] == idx]\n",
    "\t\tinferred_vec = self.model.infer_vector(doc[0].words)\n",
    "\t\tprint(self.model.docvecs.most_similar([inferred_vec]))  # wrap vec in a list"
   ]
  },
  {
   "cell_type": "code",
   "execution_count": 28,
   "metadata": {
    "colab": {},
    "colab_type": "code",
    "id": "aQVOnkwFbVgi"
   },
   "outputs": [],
   "source": [
    "# Configure keyed arguments for Doc2Vec model.\n",
    "dm_args = {\n",
    "    'dm': 1,\n",
    "    'dm_mean': 1,\n",
    "    'vector_size': 300,\n",
    "    'window': 5,\n",
    "    'negative': 5,\n",
    "    'hs': 0,\n",
    "    'min_count': 2,\n",
    "    'sample': 0,\n",
    "    # 'workers': workers,\n",
    "    'alpha': 0.025,\n",
    "    'min_alpha': 0.025,\n",
    "    'epochs': 100,\n",
    "    'comment': 'alpha=0.025'\n",
    "}\n",
    "# Instantiate a pv-dm model.\n",
    "dm = DocModel(docs=tagdocs, **dm_args)\n",
    "dm.custom_train()"
   ]
  },
  {
   "cell_type": "code",
   "execution_count": 29,
   "metadata": {
    "colab": {
     "base_uri": "https://localhost:8080/",
     "height": 34
    },
    "colab_type": "code",
    "id": "28r2RfIKjGqh",
    "outputId": "91cdab6f-a3ab-46e0-f2ec-03ba2f548ba0"
   },
   "outputs": [
    {
     "data": {
      "text/plain": [
       "(1555, 300)"
      ]
     },
     "execution_count": 29,
     "metadata": {},
     "output_type": "execute_result"
    }
   ],
   "source": [
    "dm_doc_vec_ls = []\n",
    "for i in range(len(dm.model.docvecs)):\n",
    "    dm_doc_vec_ls.append(dm.model.docvecs[i])\n",
    "\n",
    "dm_doc_vec = pd.DataFrame(dm_doc_vec_ls)\n",
    "dm_doc_vec.shape\n",
    "\n",
    "# print('Save dm doc2vec as csv file...')\n",
    "# dir_path = os.getcwd()\n",
    "# dm_doc_vec.to_csv(os.path.join(dir_path, 'dm_doc_vec.csv'), index=False, header=False)"
   ]
  },
  {
   "cell_type": "markdown",
   "metadata": {
    "colab_type": "text",
    "id": "sWPSsdSeHSNn"
   },
   "source": [
    "## Classification"
   ]
  },
  {
   "cell_type": "markdown",
   "metadata": {
    "colab_type": "text",
    "id": "1TUI70jIjw9i"
   },
   "source": [
    "### Word Embedding + TF-IDF"
   ]
  },
  {
   "cell_type": "code",
   "execution_count": 19,
   "metadata": {
    "colab": {},
    "colab_type": "code",
    "id": "XbbFMfdLZAs0"
   },
   "outputs": [],
   "source": [
    "scaler = StandardScaler()\n",
    "tfidf_doc_vec_scaled = scaler.fit_transform(tfidf_doc_vec)"
   ]
  },
  {
   "cell_type": "code",
   "execution_count": 20,
   "metadata": {
    "colab": {},
    "colab_type": "code",
    "id": "BpIiKjrJGo5c"
   },
   "outputs": [],
   "source": [
    "X_train = tfidf_doc_vec[:len(train)]\n",
    "y_train = train['label']\n",
    "\n",
    "X_test = tfidf_doc_vec[len(train):]\n",
    "y_test = test['label']\n",
    "\n",
    "D_train = xgb.DMatrix(X_train, label=y_train)\n",
    "D_test = xgb.DMatrix(X_test, label=y_test)"
   ]
  },
  {
   "cell_type": "code",
   "execution_count": 21,
   "metadata": {
    "colab": {},
    "colab_type": "code",
    "id": "bWnjwZFqHY5n"
   },
   "outputs": [],
   "source": [
    "clf_dict = {'log reg': LogisticRegression(random_state=42), \n",
    "            'naive bayes': GaussianNB(), \n",
    "            'linear svc': LinearSVC(random_state=42),\n",
    "            'sgd classifier': SGDClassifier(random_state=42),\n",
    "            'ada boost': AdaBoostClassifier(n_estimators=100, random_state=42),\n",
    "            'gradient boosting': GradientBoostingClassifier(n_estimators=100, random_state=42),\n",
    "            'CART': DecisionTreeClassifier(random_state=42),\n",
    "            'random forest': RandomForestClassifier(n_estimators=100, random_state=42)}"
   ]
  },
  {
   "cell_type": "code",
   "execution_count": 22,
   "metadata": {
    "colab": {
     "base_uri": "https://localhost:8080/",
     "height": 633
    },
    "colab_type": "code",
    "id": "jpGwBbmPHaEv",
    "outputId": "b4a9a15d-80eb-4885-bbae-18246f370ae3"
   },
   "outputs": [
    {
     "name": "stdout",
     "output_type": "stream",
     "text": [
      "Accuracy of log reg: 0.8288590604026845\n",
      "Accuracy of naive bayes: 0.7483221476510067\n",
      "Accuracy of linear svc: 0.7986577181208053\n",
      "Accuracy of sgd classifier: 0.802013422818792\n",
      "Accuracy of ada boost: 0.8389261744966443\n",
      "Accuracy of gradient boosting: 0.8422818791946308\n",
      "Accuracy of CART: 0.7885906040268457\n",
      "Accuracy of random forest: 0.8187919463087249\n"
     ]
    }
   ],
   "source": [
    "for name, clf in clf_dict.items():\n",
    "    model = clf.fit(X_train, y_train)\n",
    "    y_pred = model.predict(X_test)\n",
    "    print('Accuracy of {}:'.format(name), accuracy_score(y_pred, y_test))\n"
   ]
  },
  {
   "cell_type": "markdown",
   "metadata": {
    "colab_type": "text",
    "id": "x6ucKRUrWvFx"
   },
   "source": [
    "#### XGBoost"
   ]
  },
  {
   "cell_type": "code",
   "execution_count": 24,
   "metadata": {
    "colab": {},
    "colab_type": "code",
    "id": "NFoNklaTGeXQ"
   },
   "outputs": [],
   "source": [
    "# on CPU:\n",
    "D_train = xgb.DMatrix(X_train, label=y_train)\n",
    "D_test = xgb.DMatrix(X_test, label=y_test)\n",
    "params = {\"objective\":'multi:softprob','colsample_bytree': 0.3, 'learning_rate': 0.1,\n",
    "                'max_depth': 5, 'alpha': 10 , 'num_class': 2, 'random_state': 42}\n",
    "steps = 20  # The number of training iterations\n",
    "model = xgb.train(params, D_train, steps)\n",
    "preds = model.predict(D_test)\n",
    "y_pred = np.asarray([np.argmax(line) for line in preds])"
   ]
  },
  {
   "cell_type": "code",
   "execution_count": 25,
   "metadata": {
    "colab": {
     "base_uri": "https://localhost:8080/",
     "height": 85
    },
    "colab_type": "code",
    "id": "U_xQhpVxOujH",
    "outputId": "0b9e0cb0-4f62-4e40-93b3-33f020fc0597"
   },
   "outputs": [
    {
     "name": "stdout",
     "output_type": "stream",
     "text": [
      "Accuracy 0.8523489932885906\n",
      "Precision 0.8279569892473119\n",
      "Recall 0.927710843373494\n",
      "F1-Score 0.8749999999999999\n"
     ]
    }
   ],
   "source": [
    "print('Accuracy', accuracy_score(y_pred, y_test))\n",
    "print('Precision', precision_score(y_test, y_pred))\n",
    "print('Recall', recall_score(y_test, y_pred))\n",
    "print('F1-Score', f1_score(y_test, y_pred))"
   ]
  },
  {
   "cell_type": "code",
   "execution_count": 0,
   "metadata": {
    "colab": {
     "base_uri": "https://localhost:8080/",
     "height": 228
    },
    "colab_type": "code",
    "id": "z4_weyRdHc47",
    "outputId": "6f53fa2d-1cdc-46c4-87bf-e29a7a3d879d"
   },
   "outputs": [
    {
     "data": {
      "text/plain": [
       "<matplotlib.axes._subplots.AxesSubplot at 0x7f56ed88ff98>"
      ]
     },
     "execution_count": 207,
     "metadata": {
      "tags": []
     },
     "output_type": "execute_result"
    },
    {
     "data": {
      "image/png": "[encoded data removed]",
      "text/plain": [
       "<Figure size 360x216 with 2 Axes>"
      ]
     },
     "metadata": {
      "needs_background": "light",
      "tags": []
     },
     "output_type": "display_data"
    }
   ],
   "source": [
    "# Confusion Matrix\n",
    "cm = confusion_matrix(y_test, y_pred)\n",
    "\n",
    "df_cm = pd.DataFrame(cm, index = [i for i in \"01\"], columns = [i for i in \"01\"])\n",
    "plt.figure(figsize = (5, 3))\n",
    "sns.heatmap(df_cm, annot=True, cmap='Blues', fmt='g')"
   ]
  },
  {
   "cell_type": "markdown",
   "metadata": {
    "colab_type": "text",
    "id": "624Dvmitj2UD"
   },
   "source": [
    "### Doc2Vec"
   ]
  },
  {
   "cell_type": "code",
   "execution_count": 31,
   "metadata": {
    "colab": {
     "base_uri": "https://localhost:8080/",
     "height": 238
    },
    "colab_type": "code",
    "id": "Flx8-9U7j3j2",
    "outputId": "b8285ef9-df24-4229-dfc1-6ac39128b97b",
    "scrolled": false
   },
   "outputs": [],
   "source": [
    "dm_doc_vec_scaled = scaler.fit_transform(dm_doc_vec)"
   ]
  },
  {
   "cell_type": "code",
   "execution_count": 32,
   "metadata": {
    "colab": {},
    "colab_type": "code",
    "id": "yIfHcZuvj5vW"
   },
   "outputs": [],
   "source": [
    "X_train_doc = dm_doc_vec_scaled[:len(train)]\n",
    "y_train_doc = train['label']\n",
    "\n",
    "X_test_doc = dm_doc_vec_scaled[len(train):]\n",
    "y_test_doc = test['label']"
   ]
  },
  {
   "cell_type": "code",
   "execution_count": 33,
   "metadata": {
    "colab": {
     "base_uri": "https://localhost:8080/",
     "height": 153
    },
    "colab_type": "code",
    "id": "ZpeVnsXck30L",
    "outputId": "cab734e2-ce60-4660-f962-1b49b220d8a2",
    "scrolled": true
   },
   "outputs": [
    {
     "name": "stdout",
     "output_type": "stream",
     "text": [
      "Accuracy of log reg: 0.8187919463087249\n",
      "Accuracy of naive bayes: 0.7919463087248322\n",
      "Accuracy of linear svc: 0.7986577181208053\n",
      "Accuracy of sgd classifier: 0.8120805369127517\n",
      "Accuracy of ada boost: 0.7885906040268457\n",
      "Accuracy of gradient boosting: 0.8120805369127517\n",
      "Accuracy of CART: 0.6073825503355704\n",
      "Accuracy of random forest: 0.8154362416107382\n"
     ]
    }
   ],
   "source": [
    "for name, clf in clf_dict.items():\n",
    "    model = clf.fit(X_train_doc, y_train_doc)\n",
    "    y_pred_doc = model.predict(X_test_doc)\n",
    "    print('Accuracy of {}:'.format(name), accuracy_score(y_pred_doc, y_test_doc))"
   ]
  },
  {
   "cell_type": "markdown",
   "metadata": {
    "colab_type": "text",
    "id": "O-dIlrZ54edo"
   },
   "source": [
    "#### XGBoost"
   ]
  },
  {
   "cell_type": "code",
   "execution_count": 34,
   "metadata": {
    "colab": {},
    "colab_type": "code",
    "id": "7uvIAs904gyQ"
   },
   "outputs": [],
   "source": [
    "D_train_doc = xgb.DMatrix(X_train_doc, label=y_train_doc)\n",
    "D_test_doc = xgb.DMatrix(X_test_doc, label=y_test_doc)\n",
    "params = {\"objective\":'multi:softprob','max_depth': 3, 'alpha': 10 , 'num_class': 2, 'random_state': 0}\n",
    "steps = 20  # The number of training iterations\n",
    "model = xgb.train(params, D_train_doc, steps)\n",
    "preds = model.predict(D_test_doc)\n",
    "y_pred_doc = np.asarray([np.argmax(line) for line in preds])"
   ]
  },
  {
   "cell_type": "code",
   "execution_count": 35,
   "metadata": {
    "colab": {
     "base_uri": "https://localhost:8080/",
     "height": 85
    },
    "colab_type": "code",
    "id": "35q8L0xS4u2E",
    "outputId": "52f165ff-4a79-40a3-9563-f7eb920b2ffa"
   },
   "outputs": [
    {
     "name": "stdout",
     "output_type": "stream",
     "text": [
      "Accuracy 0.7919463087248322\n",
      "Precision 0.782608695652174\n",
      "Recall 0.8674698795180723\n",
      "F1-Score 0.822857142857143\n"
     ]
    }
   ],
   "source": [
    "name = 'XGBoost'\n",
    "print('Accuracy', accuracy_score(y_pred_doc, y_test_doc))\n",
    "print('Precision', precision_score(y_test_doc, y_pred_doc))\n",
    "print('Recall', recall_score(y_test_doc, y_pred_doc))\n",
    "print('F1-Score', f1_score(y_test_doc, y_pred_doc))"
   ]
  },
  {
   "cell_type": "markdown",
   "metadata": {
    "colab_type": "text",
    "id": "MZxWvqWM3Jz_"
   },
   "source": [
    "#### Logistic Regression"
   ]
  },
  {
   "cell_type": "code",
   "execution_count": 36,
   "metadata": {
    "colab": {},
    "colab_type": "code",
    "id": "AvBMBpWBlU0J"
   },
   "outputs": [],
   "source": [
    "clf = LogisticRegression(random_state=0).fit(X_train_doc, y_train_doc)\n",
    "y_pred_doc = clf.predict(X_test_doc)"
   ]
  },
  {
   "cell_type": "code",
   "execution_count": 37,
   "metadata": {
    "colab": {
     "base_uri": "https://localhost:8080/",
     "height": 230
    },
    "colab_type": "code",
    "id": "lyrLvvt4oLh-",
    "outputId": "5899e5ce-4acb-431d-9878-c28be9909c53"
   },
   "outputs": [
    {
     "data": {
      "text/plain": [
       "<matplotlib.axes._subplots.AxesSubplot at 0x7f1c9716fc10>"
      ]
     },
     "execution_count": 37,
     "metadata": {},
     "output_type": "execute_result"
    },
    {
     "data": {
      "image/png": "[encoded data removed]",
      "text/plain": [
       "<Figure size 360x216 with 2 Axes>"
      ]
     },
     "metadata": {
      "needs_background": "light"
     },
     "output_type": "display_data"
    }
   ],
   "source": [
    "# Confusion Matrix\n",
    "cm = confusion_matrix(y_test_doc, y_pred_doc)\n",
    "\n",
    "df_cm = pd.DataFrame(cm, index = [i for i in \"01\"], columns = [i for i in \"01\"])\n",
    "plt.figure(figsize = (5, 3))\n",
    "sns.heatmap(df_cm, annot=True, cmap='Blues', fmt='g')"
   ]
  },
  {
   "cell_type": "code",
   "execution_count": 38,
   "metadata": {
    "colab": {
     "base_uri": "https://localhost:8080/",
     "height": 85
    },
    "colab_type": "code",
    "id": "E0jYV--ZJn11",
    "outputId": "651f43e3-fbe9-4ef9-b576-803827adf964"
   },
   "outputs": [
    {
     "name": "stdout",
     "output_type": "stream",
     "text": [
      "Accuracy 0.8187919463087249\n",
      "Precision 0.8333333333333334\n",
      "Recall 0.8433734939759037\n",
      "F1-Score 0.8383233532934132\n"
     ]
    }
   ],
   "source": [
    "print('Accuracy', accuracy_score(y_pred_doc, y_test_doc))\n",
    "print('Precision', precision_score(y_test_doc, y_pred_doc))\n",
    "print('Recall', recall_score(y_test_doc, y_pred_doc))\n",
    "print('F1-Score', f1_score(y_test_doc, y_pred_doc))"
   ]
  },
  {
   "cell_type": "markdown",
   "metadata": {
    "colab_type": "text",
    "id": "bo9DgSdfoQlr"
   },
   "source": [
    "### Doc2Vec + Word2Vec"
   ]
  },
  {
   "cell_type": "code",
   "execution_count": 40,
   "metadata": {
    "colab": {},
    "colab_type": "code",
    "id": "10n9lM-e-Qgd"
   },
   "outputs": [],
   "source": [
    "dm_doc_vec_scaled = scaler.fit_transform(dm_doc_vec)\n",
    "fts = []\n",
    "for i in range(len(tfidf_doc_vec)):\n",
    "  # combine doc2vec and word2vec features\n",
    "    ft = list(tfidf_doc_vec_scaled[i]) + list(dm_doc_vec_scaled[i])\n",
    "    fts.append(ft)\n",
    "# (3553, 600)\n",
    "fts = np.array(fts)"
   ]
  },
  {
   "cell_type": "code",
   "execution_count": 41,
   "metadata": {
    "colab": {},
    "colab_type": "code",
    "id": "L-apb4mqpKSD"
   },
   "outputs": [],
   "source": [
    "X = fts #scaler.fit_transform(fts)\n",
    "\n",
    "X_train_combine = X[:len(train)]\n",
    "y_train_combine = train['label']\n",
    "\n",
    "X_test_combine = X[len(train):]\n",
    "y_test_combine = test['label']"
   ]
  },
  {
   "cell_type": "code",
   "execution_count": 42,
   "metadata": {
    "colab": {
     "base_uri": "https://localhost:8080/",
     "height": 289
    },
    "colab_type": "code",
    "id": "o4sBNDI4pNTG",
    "outputId": "4e463464-b8dd-4b16-95ca-4af16568487c",
    "scrolled": true
   },
   "outputs": [
    {
     "name": "stdout",
     "output_type": "stream",
     "text": [
      "Accuracy of log reg: 0.8355704697986577\n",
      "Accuracy of naive bayes: 0.7651006711409396\n",
      "Accuracy of linear svc: 0.8120805369127517\n",
      "Accuracy of sgd classifier: 0.8087248322147651\n",
      "Accuracy of ada boost: 0.8288590604026845\n",
      "Accuracy of gradient boosting: 0.8288590604026845\n",
      "Accuracy of CART: 0.7516778523489933\n",
      "Accuracy of random forest: 0.8456375838926175\n"
     ]
    }
   ],
   "source": [
    "for name, clf in clf_dict.items():\n",
    "    model = clf.fit(X_train_combine, y_train_combine)\n",
    "    y_pred_combine = model.predict(X_test_combine)\n",
    "    print('Accuracy of {}:'.format(name), accuracy_score(y_pred_combine, y_test_combine))"
   ]
  },
  {
   "cell_type": "markdown",
   "metadata": {},
   "source": [
    "#### xgboost"
   ]
  },
  {
   "cell_type": "code",
   "execution_count": 43,
   "metadata": {},
   "outputs": [],
   "source": [
    "D_train_doc = xgb.DMatrix(X_train_doc, label=y_train_doc)\n",
    "D_test_doc = xgb.DMatrix(X_test_doc, label=y_test_doc)\n",
    "params = {\"objective\":'multi:softprob','max_depth': 3, 'alpha': 10 , 'num_class': 2, 'random_state': 0}\n",
    "steps = 20  # The number of training iterations\n",
    "model = xgb.train(params, D_train_doc, steps)\n",
    "preds = model.predict(D_test_doc)\n",
    "y_pred_doc = np.asarray([np.argmax(line) for line in preds])"
   ]
  },
  {
   "cell_type": "code",
   "execution_count": 44,
   "metadata": {},
   "outputs": [
    {
     "name": "stdout",
     "output_type": "stream",
     "text": [
      "Accuracy 0.7919463087248322\n",
      "Precision 0.782608695652174\n",
      "Recall 0.8674698795180723\n",
      "F1-Score 0.822857142857143\n"
     ]
    }
   ],
   "source": [
    "print('Accuracy', accuracy_score(y_pred_doc, y_test_doc))\n",
    "print('Precision', precision_score(y_test_doc, y_pred_doc))\n",
    "print('Recall', recall_score(y_test_doc, y_pred_doc))\n",
    "print('F1-Score', f1_score(y_test_doc, y_pred_doc))"
   ]
  },
  {
   "cell_type": "markdown",
   "metadata": {
    "colab_type": "text",
    "id": "hJqVntSv6DWW"
   },
   "source": [
    "#### Random Forest"
   ]
  },
  {
   "cell_type": "code",
   "execution_count": 45,
   "metadata": {
    "colab": {},
    "colab_type": "code",
    "id": "tTxZoJC0HrfX"
   },
   "outputs": [],
   "source": [
    "clf = RandomForestClassifier(random_state=42).fit(X_train_combine, y_train_combine)\n",
    "y_pred_combine = clf.predict(X_test_combine)"
   ]
  },
  {
   "cell_type": "code",
   "execution_count": 46,
   "metadata": {
    "colab": {
     "base_uri": "https://localhost:8080/",
     "height": 228
    },
    "colab_type": "code",
    "id": "DQtwNzPnHpud",
    "outputId": "74c4d042-7e0b-487c-a7a9-ed471b44b915"
   },
   "outputs": [
    {
     "data": {
      "text/plain": [
       "<matplotlib.axes._subplots.AxesSubplot at 0x7f1c974b2c50>"
      ]
     },
     "execution_count": 46,
     "metadata": {},
     "output_type": "execute_result"
    },
    {
     "data": {
      "image/png": "[encoded data removed]",
      "text/plain": [
       "<Figure size 360x216 with 2 Axes>"
      ]
     },
     "metadata": {
      "needs_background": "light"
     },
     "output_type": "display_data"
    }
   ],
   "source": [
    "# Confusion Matrix\n",
    "cm = confusion_matrix(y_test, y_pred)\n",
    "\n",
    "df_cm = pd.DataFrame(cm, index = [i for i in \"01\"], columns = [i for i in \"01\"])\n",
    "plt.figure(figsize = (5, 3))\n",
    "sns.heatmap(df_cm, annot=True, cmap='Blues', fmt='g')"
   ]
  },
  {
   "cell_type": "code",
   "execution_count": 48,
   "metadata": {
    "colab": {
     "base_uri": "https://localhost:8080/",
     "height": 85
    },
    "colab_type": "code",
    "id": "JZdFXFidpP14",
    "outputId": "e52ba396-60c8-443e-eac6-767095819036",
    "scrolled": true
   },
   "outputs": [
    {
     "name": "stdout",
     "output_type": "stream",
     "text": [
      "Accuracy 0.8456375838926175\n",
      "Precision 0.8157894736842105\n",
      "Recall 0.9337349397590361\n",
      "F1-Score 0.8707865168539326\n"
     ]
    }
   ],
   "source": [
    "print('Accuracy', accuracy_score(y_test_combine, y_pred_combine))\n",
    "print('Precision', precision_score(y_test_combine, y_pred_combine))\n",
    "print('Recall', recall_score(y_test_combine, y_pred_combine))\n",
    "print('F1-Score', f1_score(y_test_combine, y_pred_combine))"
   ]
  },
  {
   "cell_type": "code",
   "execution_count": 0,
   "metadata": {
    "colab": {},
    "colab_type": "code",
    "id": "UdwnmenQKV8P"
   },
   "outputs": [],
   "source": []
  }
 ],
 "metadata": {
  "colab": {
   "collapsed_sections": [
    "OK1bSGgVFiH2",
    "sWPSsdSeHSNn",
    "O-dIlrZ54edo",
    "MZxWvqWM3Jz_"
   ],
   "name": "Stress_Analysis_Embedding.ipynb",
   "provenance": [],
   "toc_visible": true
  },
  "environment": {
   "name": "tf-gpu.1-15.m48",
   "type": "gcloud",
   "uri": "gcr.io/deeplearning-platform-release/tf-gpu.1-15:m48"
  },
  "kernelspec": {
   "display_name": "Python 3",
   "language": "python",
   "name": "python3"
  },
  "language_info": {
   "codemirror_mode": {
    "name": "ipython",
    "version": 3
   },
   "file_extension": ".py",
   "mimetype": "text/x-python",
   "name": "python",
   "nbconvert_exporter": "python",
   "pygments_lexer": "ipython3",
   "version": "3.7.6"
  },
  "toc": {
   "base_numbering": 1,
   "nav_menu": {},
   "number_sections": true,
   "sideBar": true,
   "skip_h1_title": true,
   "title_cell": "Table of Contents",
   "title_sidebar": "Contents",
   "toc_cell": false,
   "toc_position": {
    "height": "calc(100% - 180px)",
    "left": "10px",
    "top": "150px",
    "width": "242.594px"
   },
   "toc_section_display": true,
   "toc_window_display": true
  }
 },
 "nbformat": 4,
 "nbformat_minor": 1
}
